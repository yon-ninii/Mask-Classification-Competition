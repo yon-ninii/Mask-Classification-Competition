{
 "cells": [
  {
   "cell_type": "code",
   "execution_count": 94,
   "id": "f1848394-4209-4971-9604-12c8e50f3cbe",
   "metadata": {},
   "outputs": [],
   "source": [
    "import pandas as pd\n",
    "import os\n",
    "import glob\n",
    "import albumentations as A\n",
    "import cv2\n",
    "import numpy as np\n",
    "from PIL import Image"
   ]
  },
  {
   "cell_type": "code",
   "execution_count": 95,
   "id": "282cc7f6-21af-4de1-9520-ca8b82d0871e",
   "metadata": {},
   "outputs": [
    {
     "data": {
      "text/plain": [
       "'1.3.0'"
      ]
     },
     "execution_count": 95,
     "metadata": {},
     "output_type": "execute_result"
    }
   ],
   "source": [
    "cv2.__version__\n",
    "A.__version__"
   ]
  },
  {
   "cell_type": "code",
   "execution_count": 96,
   "id": "92aaffe2-3df7-4b3c-9003-24a15209c03c",
   "metadata": {},
   "outputs": [],
   "source": [
    "HorizontalFlip = A.Compose([\n",
    "    A.HorizontalFlip(p=1)\n",
    "])\n",
    "\n",
    "Rotate_15 = A.Compose([\n",
    "    A.Rotate(limit=(-15, -45), p=1, always_apply=True)\n",
    "])\n",
    "    \n",
    "Rotate_30 = A.Compose([\n",
    "    A.Rotate(limit=(15, 45), p=1, always_apply=True)\n",
    "])\n",
    "    \n",
    "HRotate_15 = A.Compose([\n",
    "    A.Rotate(limit=(15, 45), p=1, always_apply=True),\n",
    "    A.HorizontalFlip(p=1)\n",
    "])\n",
    "    \n",
    "HRotate_30 = A.Compose([\n",
    "    A.Rotate(limit=(-45, -45), p=1, always_apply=True),\n",
    "    A.HorizontalFlip(p=1)\n",
    "])"
   ]
  },
  {
   "cell_type": "code",
   "execution_count": 97,
   "id": "dbdda3fc-b8a8-4a9e-90cf-9fff48e42b51",
   "metadata": {},
   "outputs": [],
   "source": [
    "root = '/opt/ml/input/data'\n",
    "\n",
    "filenames = ['incorrect_mask', 'mask1', 'mask2', 'mask3', 'mask4', 'mask5', 'normal']\n",
    "\n",
    "paths = []\n",
    "df = pd.read_csv(os.path.join(root, 'train', 'train.csv'))\n",
    "for path in df['path']:\n",
    "    _, gender, _, age = path.split('_')\n",
    "    if int(age) >= 60:\n",
    "        p = [glob.glob(os.path.join(root, 'train', 'images', path, f+'*')) for f in filenames]\n",
    "        paths.extend(p)\n",
    "        # print(p)\n",
    "        # p == ['/opt/ml/input/data/train/images/000001_female_Asian_45/mask1.jpg']\n",
    "        for f_in_p in p:\n",
    "            image = np.array(Image.open(f_in_p[0]))\n",
    "        \n",
    "            _, ext = f_in_p[0].split('.')\n",
    "#             new_path1 = f_in_p[0].replace('train', '60HFlip')\n",
    "#             new_path2 = f_in_p[0].replace('train', '60Rotaten45')\n",
    "#             new_path3 = f_in_p[0].replace('train', '60Rotatep45')\n",
    "            new_path4 = f_in_p[0].replace('train', '60HFRotatep45')\n",
    "            new_path5 = f_in_p[0].replace('train', '60HFRotaten45')\n",
    "            \n",
    "            os.makedirs(os.path.dirname(new_path1), exist_ok=True)\n",
    "            os.makedirs(os.path.dirname(new_path2), exist_ok=True)\n",
    "            os.makedirs(os.path.dirname(new_path3), exist_ok=True)\n",
    "            os.makedirs(os.path.dirname(new_path4), exist_ok=True)\n",
    "            os.makedirs(os.path.dirname(new_path5), exist_ok=True)\n",
    "#             Image.fromarray(HorizontalFlip(image=image)[\"image\"]).save(new_path1[:-4] + '_HF.' + ext) # HorizontalFlip\n",
    "#             Image.fromarray(Rotate_15(image=image)[\"image\"]).save(new_path2[:-4] + '_Rn45.' + ext) # Rotate(30)\n",
    "#             Image.fromarray(Rotate_30(image=image)[\"image\"]).save(new_path3[:-4] + '_Rp45.' + ext) # Rotate(30)\n",
    "            Image.fromarray(HRotate_15(image=image)[\"image\"]).save(new_path4[:-4] + 'HRp45.' + ext) # Rotate(30)\n",
    "            Image.fromarray(HRotate_30(image=image)[\"image\"]).save(new_path5[:-4] + 'HRn45.' + ext) # Rotate(30)"
   ]
  },
  {
   "cell_type": "code",
   "execution_count": 59,
   "id": "0ae26a1e-efc7-4dbd-8e30-f16f418f6dac",
   "metadata": {},
   "outputs": [],
   "source": []
  }
 ],
 "metadata": {
  "kernelspec": {
   "display_name": "Python 3 (ipykernel)",
   "language": "python",
   "name": "python3"
  },
  "language_info": {
   "codemirror_mode": {
    "name": "ipython",
    "version": 3
   },
   "file_extension": ".py",
   "mimetype": "text/x-python",
   "name": "python",
   "nbconvert_exporter": "python",
   "pygments_lexer": "ipython3",
   "version": "3.8.5"
  }
 },
 "nbformat": 4,
 "nbformat_minor": 5
}
